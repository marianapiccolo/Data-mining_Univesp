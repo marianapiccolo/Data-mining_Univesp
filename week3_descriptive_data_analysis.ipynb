{
  "nbformat": 4,
  "nbformat_minor": 0,
  "metadata": {
    "colab": {
      "name": "week3_descriptive_data_analysis.ipynb",
      "provenance": []
    },
    "kernelspec": {
      "name": "python3",
      "display_name": "Python 3"
    },
    "language_info": {
      "name": "python"
    }
  },
  "cells": [
    {
      "cell_type": "markdown",
      "source": [
        "The following dataset contains information about babies born and their parents. \n",
        "\n",
        "URL do conjunto de dados:\n",
        "        https://www.sheffield.ac.uk/polopoly_fs/1.937185!/file/Birthweight_reduced_kg_R.csv,\n",
        "      Mathematics and Statistics Help (MASH), Universidade de Sheffield, Reino Unido.\"\n",
        "\n",
        "         \"1. Make a histogram of the baby's weight and baby's height attributes.\",\n",
        "         \"2. Generate a pie chart of smoking mothers.\",\n",
        "         \"3. Get the mean and standard deviation of the babies' heights.,\n",
        "         \"4. Generate a box plot of the mother's age.\",\n",
        "         \"5. Generate a scatterplot of baby weight and gestation time.\",\n",
        "         \"6. Add information about smoking and non-smoking mothers. To do so, include the **hue** parameter in the **scatterplot** function, passing the **smoker** attribute as a reference.\"\n",
        "\n",
        "Description of attributes:\n",
        "\n",
        "        \"**ID**: baby's number,\n",
        "        \"**Length**: baby's length (cm),\n",
        "        \"**Birthweight**: baby weight (kg),\n",
        "        \"**Headcirc**: head circumference,\n",
        "        \"**Gestation**: gestation (weeks),\n",
        "        \"**smoker**: mother smoker (1 = yes, 0 = no),\n",
        "        \"**mage**: mother's age,\n",
        "        \"**mnocig**: number of cigarettes per mother's day,\n",
        "        \"**mheight**: mother's height (cm),\n",
        "        \"**mppwt**: mother's pre-pregnancy weight (kg),\n",
        "        \"**fage**: father's age,\n",
        "        \"**fedyrs**: father's years of schooling,\n",
        "        \"**fnocig**: number of cigarettes per father's day,\n",
        "        \"**fheight**: height of parent (cm),\n",
        "        \"**lowbwt**: low birth weight (0 = no, 1 = yes),\n",
        "        \"**mage35**: mother over 35 (0 = no, 1 = yes)."
      ],
      "metadata": {
        "id": "bM8s_1OqpwjR"
      }
    },
    {
      "cell_type": "code",
      "source": [
        "import pandas as pd\n",
        "import seaborn as sb\n",
        "import matplotlib.pyplot as plt\n",
        "\n",
        "sb.set(rc={'figure.figsize':(15,8)})"
      ],
      "metadata": {
        "id": "3qdBrt6xqHF1"
      },
      "execution_count": null,
      "outputs": []
    },
    {
      "cell_type": "code",
      "source": [
        "url = 'https://www.sheffield.ac.uk/polopoly_fs/1.937185!/file/Birthweight_reduced_kg_R.csv'\n",
        "babies = pd.read_csv(url)\n",
        "babies.head()"
      ],
      "metadata": {
        "colab": {
          "base_uri": "https://localhost:8080/",
          "height": 206
        },
        "id": "fi_4axDosJSO",
        "outputId": "fc9efa8c-c129-442c-a8af-adbc49a61437"
      },
      "execution_count": null,
      "outputs": [
        {
          "output_type": "execute_result",
          "data": {
            "text/plain": [
              "     ID  Length  Birthweight  Headcirc  Gestation  smoker  mage  mnocig  \\\n",
              "0  1360      56         4.55        34         44       0    20       0   \n",
              "1  1016      53         4.32        36         40       0    19       0   \n",
              "2   462      58         4.10        39         41       0    35       0   \n",
              "3  1187      53         4.07        38         44       0    20       0   \n",
              "4   553      54         3.94        37         42       0    24       0   \n",
              "\n",
              "   mheight  mppwt  fage  fedyrs  fnocig  fheight  lowbwt  mage35  \n",
              "0      162     57    23      10      35      179       0       0  \n",
              "1      171     62    19      12       0      183       0       0  \n",
              "2      172     58    31      16      25      185       0       1  \n",
              "3      174     68    26      14      25      189       0       0  \n",
              "4      175     66    30      12       0      184       0       0  "
            ],
            "text/html": [
              "\n",
              "  <div id=\"df-4d1f63d6-d1f5-4916-b69b-a815dfbea161\">\n",
              "    <div class=\"colab-df-container\">\n",
              "      <div>\n",
              "<style scoped>\n",
              "    .dataframe tbody tr th:only-of-type {\n",
              "        vertical-align: middle;\n",
              "    }\n",
              "\n",
              "    .dataframe tbody tr th {\n",
              "        vertical-align: top;\n",
              "    }\n",
              "\n",
              "    .dataframe thead th {\n",
              "        text-align: right;\n",
              "    }\n",
              "</style>\n",
              "<table border=\"1\" class=\"dataframe\">\n",
              "  <thead>\n",
              "    <tr style=\"text-align: right;\">\n",
              "      <th></th>\n",
              "      <th>ID</th>\n",
              "      <th>Length</th>\n",
              "      <th>Birthweight</th>\n",
              "      <th>Headcirc</th>\n",
              "      <th>Gestation</th>\n",
              "      <th>smoker</th>\n",
              "      <th>mage</th>\n",
              "      <th>mnocig</th>\n",
              "      <th>mheight</th>\n",
              "      <th>mppwt</th>\n",
              "      <th>fage</th>\n",
              "      <th>fedyrs</th>\n",
              "      <th>fnocig</th>\n",
              "      <th>fheight</th>\n",
              "      <th>lowbwt</th>\n",
              "      <th>mage35</th>\n",
              "    </tr>\n",
              "  </thead>\n",
              "  <tbody>\n",
              "    <tr>\n",
              "      <th>0</th>\n",
              "      <td>1360</td>\n",
              "      <td>56</td>\n",
              "      <td>4.55</td>\n",
              "      <td>34</td>\n",
              "      <td>44</td>\n",
              "      <td>0</td>\n",
              "      <td>20</td>\n",
              "      <td>0</td>\n",
              "      <td>162</td>\n",
              "      <td>57</td>\n",
              "      <td>23</td>\n",
              "      <td>10</td>\n",
              "      <td>35</td>\n",
              "      <td>179</td>\n",
              "      <td>0</td>\n",
              "      <td>0</td>\n",
              "    </tr>\n",
              "    <tr>\n",
              "      <th>1</th>\n",
              "      <td>1016</td>\n",
              "      <td>53</td>\n",
              "      <td>4.32</td>\n",
              "      <td>36</td>\n",
              "      <td>40</td>\n",
              "      <td>0</td>\n",
              "      <td>19</td>\n",
              "      <td>0</td>\n",
              "      <td>171</td>\n",
              "      <td>62</td>\n",
              "      <td>19</td>\n",
              "      <td>12</td>\n",
              "      <td>0</td>\n",
              "      <td>183</td>\n",
              "      <td>0</td>\n",
              "      <td>0</td>\n",
              "    </tr>\n",
              "    <tr>\n",
              "      <th>2</th>\n",
              "      <td>462</td>\n",
              "      <td>58</td>\n",
              "      <td>4.10</td>\n",
              "      <td>39</td>\n",
              "      <td>41</td>\n",
              "      <td>0</td>\n",
              "      <td>35</td>\n",
              "      <td>0</td>\n",
              "      <td>172</td>\n",
              "      <td>58</td>\n",
              "      <td>31</td>\n",
              "      <td>16</td>\n",
              "      <td>25</td>\n",
              "      <td>185</td>\n",
              "      <td>0</td>\n",
              "      <td>1</td>\n",
              "    </tr>\n",
              "    <tr>\n",
              "      <th>3</th>\n",
              "      <td>1187</td>\n",
              "      <td>53</td>\n",
              "      <td>4.07</td>\n",
              "      <td>38</td>\n",
              "      <td>44</td>\n",
              "      <td>0</td>\n",
              "      <td>20</td>\n",
              "      <td>0</td>\n",
              "      <td>174</td>\n",
              "      <td>68</td>\n",
              "      <td>26</td>\n",
              "      <td>14</td>\n",
              "      <td>25</td>\n",
              "      <td>189</td>\n",
              "      <td>0</td>\n",
              "      <td>0</td>\n",
              "    </tr>\n",
              "    <tr>\n",
              "      <th>4</th>\n",
              "      <td>553</td>\n",
              "      <td>54</td>\n",
              "      <td>3.94</td>\n",
              "      <td>37</td>\n",
              "      <td>42</td>\n",
              "      <td>0</td>\n",
              "      <td>24</td>\n",
              "      <td>0</td>\n",
              "      <td>175</td>\n",
              "      <td>66</td>\n",
              "      <td>30</td>\n",
              "      <td>12</td>\n",
              "      <td>0</td>\n",
              "      <td>184</td>\n",
              "      <td>0</td>\n",
              "      <td>0</td>\n",
              "    </tr>\n",
              "  </tbody>\n",
              "</table>\n",
              "</div>\n",
              "      <button class=\"colab-df-convert\" onclick=\"convertToInteractive('df-4d1f63d6-d1f5-4916-b69b-a815dfbea161')\"\n",
              "              title=\"Convert this dataframe to an interactive table.\"\n",
              "              style=\"display:none;\">\n",
              "        \n",
              "  <svg xmlns=\"http://www.w3.org/2000/svg\" height=\"24px\"viewBox=\"0 0 24 24\"\n",
              "       width=\"24px\">\n",
              "    <path d=\"M0 0h24v24H0V0z\" fill=\"none\"/>\n",
              "    <path d=\"M18.56 5.44l.94 2.06.94-2.06 2.06-.94-2.06-.94-.94-2.06-.94 2.06-2.06.94zm-11 1L8.5 8.5l.94-2.06 2.06-.94-2.06-.94L8.5 2.5l-.94 2.06-2.06.94zm10 10l.94 2.06.94-2.06 2.06-.94-2.06-.94-.94-2.06-.94 2.06-2.06.94z\"/><path d=\"M17.41 7.96l-1.37-1.37c-.4-.4-.92-.59-1.43-.59-.52 0-1.04.2-1.43.59L10.3 9.45l-7.72 7.72c-.78.78-.78 2.05 0 2.83L4 21.41c.39.39.9.59 1.41.59.51 0 1.02-.2 1.41-.59l7.78-7.78 2.81-2.81c.8-.78.8-2.07 0-2.86zM5.41 20L4 18.59l7.72-7.72 1.47 1.35L5.41 20z\"/>\n",
              "  </svg>\n",
              "      </button>\n",
              "      \n",
              "  <style>\n",
              "    .colab-df-container {\n",
              "      display:flex;\n",
              "      flex-wrap:wrap;\n",
              "      gap: 12px;\n",
              "    }\n",
              "\n",
              "    .colab-df-convert {\n",
              "      background-color: #E8F0FE;\n",
              "      border: none;\n",
              "      border-radius: 50%;\n",
              "      cursor: pointer;\n",
              "      display: none;\n",
              "      fill: #1967D2;\n",
              "      height: 32px;\n",
              "      padding: 0 0 0 0;\n",
              "      width: 32px;\n",
              "    }\n",
              "\n",
              "    .colab-df-convert:hover {\n",
              "      background-color: #E2EBFA;\n",
              "      box-shadow: 0px 1px 2px rgba(60, 64, 67, 0.3), 0px 1px 3px 1px rgba(60, 64, 67, 0.15);\n",
              "      fill: #174EA6;\n",
              "    }\n",
              "\n",
              "    [theme=dark] .colab-df-convert {\n",
              "      background-color: #3B4455;\n",
              "      fill: #D2E3FC;\n",
              "    }\n",
              "\n",
              "    [theme=dark] .colab-df-convert:hover {\n",
              "      background-color: #434B5C;\n",
              "      box-shadow: 0px 1px 3px 1px rgba(0, 0, 0, 0.15);\n",
              "      filter: drop-shadow(0px 1px 2px rgba(0, 0, 0, 0.3));\n",
              "      fill: #FFFFFF;\n",
              "    }\n",
              "  </style>\n",
              "\n",
              "      <script>\n",
              "        const buttonEl =\n",
              "          document.querySelector('#df-4d1f63d6-d1f5-4916-b69b-a815dfbea161 button.colab-df-convert');\n",
              "        buttonEl.style.display =\n",
              "          google.colab.kernel.accessAllowed ? 'block' : 'none';\n",
              "\n",
              "        async function convertToInteractive(key) {\n",
              "          const element = document.querySelector('#df-4d1f63d6-d1f5-4916-b69b-a815dfbea161');\n",
              "          const dataTable =\n",
              "            await google.colab.kernel.invokeFunction('convertToInteractive',\n",
              "                                                     [key], {});\n",
              "          if (!dataTable) return;\n",
              "\n",
              "          const docLinkHtml = 'Like what you see? Visit the ' +\n",
              "            '<a target=\"_blank\" href=https://colab.research.google.com/notebooks/data_table.ipynb>data table notebook</a>'\n",
              "            + ' to learn more about interactive tables.';\n",
              "          element.innerHTML = '';\n",
              "          dataTable['output_type'] = 'display_data';\n",
              "          await google.colab.output.renderOutput(dataTable, element);\n",
              "          const docLink = document.createElement('div');\n",
              "          docLink.innerHTML = docLinkHtml;\n",
              "          element.appendChild(docLink);\n",
              "        }\n",
              "      </script>\n",
              "    </div>\n",
              "  </div>\n",
              "  "
            ]
          },
          "metadata": {},
          "execution_count": 5
        }
      ]
    },
    {
      "cell_type": "code",
      "source": [
        "# Histogram of the baby's weight and baby's height\n",
        "sb.displot(babies['Birthweight'])\n",
        "plt.show() #weight\n",
        "\n",
        "sb.displot(babies['Length']) #height\n",
        "plt.show()"
      ],
      "metadata": {
        "colab": {
          "base_uri": "https://localhost:8080/",
          "height": 721
        },
        "id": "0keMwMhbtLIv",
        "outputId": "dedb1ae7-3adb-4afc-bc5e-534cab52ae68"
      },
      "execution_count": null,
      "outputs": [
        {
          "output_type": "display_data",
          "data": {
            "text/plain": [
              "<Figure size 360x360 with 1 Axes>"
            ],
            "image/png": "[encoded data removed]"
          },
          "metadata": {
            "needs_background": "light"
          }
        },
        {
          "output_type": "display_data",
          "data": {
            "text/plain": [
              "<Figure size 360x360 with 1 Axes>"
            ],
            "image/png": "[encoded data removed]"
          },
          "metadata": {
            "needs_background": "light"
          }
        }
      ]
    },
    {
      "cell_type": "code",
      "source": [
        "# Pie chart of smoking mothers\n",
        "smokers = len(babies[babies['smoker']==1])\n",
        "not_smokers = len(babies[babies['smoker']==0])\n",
        "\n",
        "plt.pie([smokers, not_smokers], labels=['Smokers', 'Not smokers'], autopct = '%0.0f%%')"
      ],
      "metadata": {
        "colab": {
          "base_uri": "https://localhost:8080/",
          "height": 352
        },
        "id": "qkABJ7D_tsDG",
        "outputId": "0c2d98b4-9798-41b5-d31f-9fed4338d497"
      },
      "execution_count": null,
      "outputs": [
        {
          "output_type": "execute_result",
          "data": {
            "text/plain": [
              "([<matplotlib.patches.Wedge at 0x7f0f75cabcd0>,\n",
              "  <matplotlib.patches.Wedge at 0x7f0f75d28050>],\n",
              " [Text(-0.08220320075597437, 1.0969241695693797, 'Smokers'),\n",
              "  Text(0.08220330345742706, -1.0969241618729557, 'Not smokers')],\n",
              " [Text(-0.04483810950325875, 0.5983222743105706, '52%'),\n",
              "  Text(0.04483816552223294, -0.5983222701125213, '48%')])"
            ]
          },
          "metadata": {},
          "execution_count": 9
        },
        {
          "output_type": "display_data",
          "data": {
            "text/plain": [
              "<Figure size 432x288 with 1 Axes>"
            ],
            "image/png": "[encoded data removed]"
          },
          "metadata": {}
        }
      ]
    },
    {
      "cell_type": "code",
      "source": [
        "# Mean and standard deviation of the babies' heights\n",
        "babies['Length'].describe()"
      ],
      "metadata": {
        "colab": {
          "base_uri": "https://localhost:8080/"
        },
        "id": "mLGGqlzjvFjL",
        "outputId": "1d092437-9728-41ac-e672-94eb1963ba16"
      },
      "execution_count": null,
      "outputs": [
        {
          "output_type": "execute_result",
          "data": {
            "text/plain": [
              "count    42.000000\n",
              "mean     51.333333\n",
              "std       2.935624\n",
              "min      43.000000\n",
              "25%      50.000000\n",
              "50%      52.000000\n",
              "75%      53.000000\n",
              "max      58.000000\n",
              "Name: Length, dtype: float64"
            ]
          },
          "metadata": {},
          "execution_count": 10
        }
      ]
    },
    {
      "cell_type": "code",
      "source": [
        "# Box plot of the mother's age\n",
        "sb.boxplot(y=babies['mage'])\n",
        "plt.show()"
      ],
      "metadata": {
        "colab": {
          "base_uri": "https://localhost:8080/",
          "height": 248
        },
        "id": "uyWVDJQQvtNC",
        "outputId": "907cca37-3ba1-412e-bcdd-4785ca8bc09e"
      },
      "execution_count": null,
      "outputs": [
        {
          "output_type": "display_data",
          "data": {
            "text/plain": [
              "<Figure size 432x288 with 1 Axes>"
            ],
            "image/png": "[encoded data removed]"
          },
          "metadata": {
            "needs_background": "light"
          }
        }
      ]
    },
    {
      "cell_type": "code",
      "source": [
        "# Scatterplot of baby weight and gestation time\n",
        "# 1 = smoker; 2 = not smoker\n",
        "sb.scatterplot(x=babies['Birthweight'], y=babies['Gestation'], hue=babies['smoker'])\n",
        "plt.show()\n",
        "\n",
        "# We can see in the scatter plot that all babies weighit less than 2.5 kg are born to smoking mothers. \n",
        "# There is also a higher concentration of babies with less weight among smoking mothers.\n",
        "# Another visible (and expected) result is that there is a positive correlation between the time of gestation and the weight of the babies.\""
      ],
      "metadata": {
        "colab": {
          "base_uri": "https://localhost:8080/",
          "height": 285
        },
        "id": "nkGbB1uTwHXc",
        "outputId": "8f58c8c6-2174-4338-e8d6-084663d065d1"
      },
      "execution_count": null,
      "outputs": [
        {
          "output_type": "display_data",
          "data": {
            "text/plain": [
              "<Figure size 432x288 with 1 Axes>"
            ],
            "image/png": "[encoded data removed]"
          },
          "metadata": {
            "needs_background": "light"
          }
        }
      ]
    }
  ]
}